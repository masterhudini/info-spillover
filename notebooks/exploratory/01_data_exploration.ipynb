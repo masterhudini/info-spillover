{
 "cells": [
  {
   "cell_type": "markdown",
   "metadata": {},
   "source": [
    "# Data Exploration Notebook\n",
    "\n",
    "This notebook is for initial data exploration and understanding of the information spillover dataset."
   ]
  },
  {
   "cell_type": "code",
   "execution_count": null,
   "metadata": {},
   "outputs": [],
   "source": [
    "import pandas as pd\n",
    "import numpy as np\n",
    "import matplotlib.pyplot as plt\n",
    "import seaborn as sns\n",
    "from pathlib import Path\n",
    "\n",
    "# Set style\n",
    "plt.style.use('default')\n",
    "sns.set_palette(\"husl\")\n",
    "\n",
    "%matplotlib inline\n",
    "%load_ext autoreload\n",
    "%autoreload 2"
   ]
  },
  {
   "cell_type": "markdown",
   "metadata": {},
   "source": [
    "## Load Data"
   ]
  },
  {
   "cell_type": "code",
   "execution_count": null,
   "metadata": {},
   "outputs": [],
   "source": [
    "# Load your raw data here\n",
    "data_path = Path(\"../../data/raw\")\n",
    "\n",
    "# Example:\n",
    "# df = pd.read_csv(data_path / \"your_data.csv\")\n",
    "# print(f\"Data shape: {df.shape}\")\n",
    "# df.head()"
   ]
  },
  {
   "cell_type": "markdown",
   "metadata": {},
   "source": [
    "## Basic Data Information"
   ]
  },
  {
   "cell_type": "code",
   "execution_count": null,
   "metadata": {},
   "outputs": [],
   "source": [
    "# Basic information about the dataset\n",
    "# df.info()\n",
    "# df.describe()\n",
    "# df.isnull().sum()"
   ]
  },
  {
   "cell_type": "markdown",
   "metadata": {},
   "source": [
    "## Data Visualization"
   ]
  },
  {
   "cell_type": "code",
   "execution_count": null,
   "metadata": {},
   "outputs": [],
   "source": [
    "# Create visualizations to understand your data\n",
    "# Example plots:\n",
    "\n",
    "# fig, axes = plt.subplots(2, 2, figsize=(15, 10))\n",
    "# \n",
    "# # Distribution plots\n",
    "# df['target_column'].hist(ax=axes[0, 0], bins=30)\n",
    "# axes[0, 0].set_title('Target Distribution')\n",
    "# \n",
    "# # Correlation heatmap\n",
    "# numeric_cols = df.select_dtypes(include=[np.number]).columns\n",
    "# corr_matrix = df[numeric_cols].corr()\n",
    "# sns.heatmap(corr_matrix, annot=True, cmap='coolwarm', center=0, ax=axes[0, 1])\n",
    "# axes[0, 1].set_title('Correlation Matrix')\n",
    "# \n",
    "# plt.tight_layout()\n",
    "# plt.show()"
   ]
  },
  {
   "cell_type": "markdown",
   "metadata": {},
   "source": [
    "## Feature Analysis"
   ]
  },
  {
   "cell_type": "code",
   "execution_count": null,
   "metadata": {},
   "outputs": [],
   "source": [
    "# Analyze individual features\n",
    "# Look for patterns, outliers, missing values\n",
    "\n",
    "# Example:\n",
    "# for col in df.columns:\n",
    "#     if df[col].dtype in ['int64', 'float64']:\n",
    "#         print(f\"\\n{col}:\")\n",
    "#         print(f\"  Mean: {df[col].mean():.2f}\")\n",
    "#         print(f\"  Std: {df[col].std():.2f}\")\n",
    "#         print(f\"  Missing: {df[col].isnull().sum()}\")"
   ]
  },
  {
   "cell_type": "markdown",
   "metadata": {},
   "source": [
    "## Key Insights\n",
    "\n",
    "Document your findings here:\n",
    "\n",
    "- Data quality observations\n",
    "- Feature distributions\n",
    "- Correlations and relationships\n",
    "- Potential issues to address\n",
    "- Recommendations for preprocessing"
   ]
  }
 ],
 "metadata": {
  "kernelspec": {
   "display_name": "Python 3",
   "language": "python",
   "name": "python3"
  },
  "language_info": {
   "codemirror_mode": {
    "name": "ipython",
    "version": 3
   },
   "file_extension": ".py",
   "mimetype": "text/x-python",
   "name": "python",
   "nbconvert_exporter": "python",
   "pygments_lexer": "ipython3",
   "version": "3.8.0"
  }
 },
 "nbformat": 4,
 "nbformat_minor": 4
}